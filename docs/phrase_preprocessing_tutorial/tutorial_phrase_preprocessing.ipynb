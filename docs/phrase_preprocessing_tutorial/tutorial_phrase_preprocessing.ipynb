{
 "cells": [
  {
   "cell_type": "markdown",
   "metadata": {},
   "source": [
    "Prerequisites\n",
    "1. Retrieve TSV files from TREC or RELISH data sets\n",
    "    - Use the recommended BioC-approach to generate .tsv files from the data sets.\n",
    "    - Remove structure words, by using the `Structure_Words_removal` module.\n",
    "2. Make sure that all required modules are installed\n",
    "    - Use `pip install https://s3-us-west-2.amazonaws.com/ai2-s2-scispacy/releases/v0.5.0/en_core_sci_lg-0.5.0.tar.gz` to install the tokenizer."
   ]
  },
  {
   "cell_type": "code",
   "execution_count": null,
   "metadata": {},
   "outputs": [],
   "source": [
    "import os\n",
    "import re\n",
    "import sys\n",
    "import csv\n",
    "import logging\n",
    "import spacy\n",
    "import numpy as np\n",
    "from nltk import download\n",
    "from nltk.corpus import stopwords\n",
    "nlp = spacy.load(\"en_core_sci_lg\")  # Scispacy model en_core_sci_lg\\\n",
    "os.chdir('../../code/Phrase_Preprocessing/')\n",
    "from Phrase_Preprocessing import preprocessPhrases\n",
    "os.chdir('../../')"
   ]
  },
  {
   "cell_type": "markdown",
   "metadata": {},
   "source": [
    "Code Strategy\n",
    "1. Tokenize tsv using the sciSpacy module `en_core_sci_lg` and perform additional preprocessing.\n",
    "    - Tokenizes space-separated words.\n",
    "    - Removes all special characters except for hyphens `-`.\n",
    "    - Deletes all empty tokens.\n",
    "    - Saves the results as three-dimensional numpy array.\n",
    "    - Saves array as a .npy file.\n",
    "2. Retrieve .npy array."
   ]
  },
  {
   "cell_type": "markdown",
   "metadata": {},
   "source": [
    "Step 1: Tokenize tsv using the sciSpacy module `en_core_sci_lg`"
   ]
  },
  {
   "cell_type": "code",
   "execution_count": null,
   "metadata": {},
   "outputs": [],
   "source": [
    "Input_File = \"./data/RELISH/RELISH_documents_pruned.tsv\"   # The sample input file for this will be a limited RELISH data set.\n",
    "Output_File = \"./data/RELISH/RELISH_Tokenized.npy\"  # The resulting output .npy.\n",
    "preprocessPhrases(Input_File, Output_File)"
   ]
  },
  {
   "cell_type": "markdown",
   "metadata": {},
   "source": [
    "Step 2: Retrieve .npy array."
   ]
  },
  {
   "cell_type": "code",
   "execution_count": null,
   "metadata": {},
   "outputs": [],
   "source": [
    "Output_Array = np.load(Output_File, allow_pickle=True)\n",
    "print(Output_Array[0])"
   ]
  }
 ],
 "metadata": {
  "interpreter": {
   "hash": "aee8b7b246df8f9039afb4144a1f6fd8d2ca17a180786b69acc140d282b71a49"
  },
  "kernelspec": {
   "display_name": "Python 3 (ipykernel)",
   "language": "python",
   "name": "python3"
  },
  "language_info": {
   "codemirror_mode": {
    "name": "ipython",
    "version": 3
   },
   "file_extension": ".py",
   "mimetype": "text/x-python",
   "name": "python",
   "nbconvert_exporter": "python",
   "pygments_lexer": "ipython3",
   "version": "3.9.12"
  }
 },
 "nbformat": 4,
 "nbformat_minor": 2
}
