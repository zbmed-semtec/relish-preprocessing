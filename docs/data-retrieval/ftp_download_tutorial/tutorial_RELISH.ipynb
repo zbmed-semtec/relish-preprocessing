{
 "cells": [
  {
   "cell_type": "markdown",
   "metadata": {},
   "source": [
    "Prerequisites\n",
    "1. Install necessary software for FTP server based data retrieval (Windows 10)\n",
    "    - Install Chocolatey: [Chocolately Installation](https://chocolatey.org/install#individual).\n",
    "    - Install Wget by typing the following into your shell: `choco install wget`.\n",
    "2. Retrieve RELISH data set\n",
    "    - Retrieve from [RELISH](https://figshare.com/projects/RELISH-DB/60095).\n",
    "    - Extract the `RELISH_v1.json` at `data/RELISH`.\n",
    "3. Retrieve pubmed data via FTP server (Windows 10)\n",
    "    - Retrieve it using Wget by typing the following into your shell: `wget -mkx -e robots=off https://ftp.ncbi.nlm.nih.gov/pubmed/baseline/`.\n",
    "    - Extract all `.gz` files in `ftp.ncbi.nlm.nih.gov/pubmed/baseline`.\n",
    "    - Move resulting xml files to `data/RELISH/pubmed`."
   ]
  },
  {
   "cell_type": "code",
   "execution_count": null,
   "metadata": {},
   "outputs": [],
   "source": [
    "import os\n",
    "os.chdir('../')\n",
    "os.chdir('../code')\n",
    "from InputDataPreprocess import parseRelish\n",
    "os.chdir('FTP-approach')\n",
    "from preProcessFTP import structureDataset"
   ]
  },
  {
   "cell_type": "markdown",
   "metadata": {},
   "source": [
    "Code Strategy\n",
    "1. Get PMIDs from RELISH by parsing `RELISH_v1.json` to a set of pmids\n",
    "2. Retrieve PMIDs from FTP data set and structure resulting data set.\n",
    "    - Iterate through the FTP data set and check if each entry belongs to the RELISH data set.\n",
    "    - If a pmid has been found its metadata gets saved in `data/RELISH/Original`.\n",
    "    - Create new xml files at `data/RELISH/Formatted` which take the format of the BioC API pubmed data.\n",
    "    - Remove unecessary HTML headings.\n",
    "    - Create a tsv file at `data/RELISH/RELISH_Formatted.tsv` containing pmid, title and abstract."
   ]
  },
  {
   "cell_type": "markdown",
   "metadata": {},
   "source": [
    "Step 1: Get PMIDS from `RELISH_v1.json`. Returns pmids as set."
   ]
  },
  {
   "cell_type": "code",
   "execution_count": null,
   "metadata": {},
   "outputs": [],
   "source": [
    "os.chdir('../')\n",
    "pmidList = parseRelish('../data/RELISH/RELISH_v1.json')\n",
    "pmidList = set(list(pmidList)[:10]) # To retrieve all data just delete this row and rerun the code."
   ]
  },
  {
   "cell_type": "markdown",
   "metadata": {},
   "source": [
    "Step 2: Retrieve PMIDs from FTP data set and structure results. Returns two sets of xml files: `data/RELISH/Original` and `data/RELISH/Formatted`, as well as a tsv file: `data/RELISH/RELISH_Formatted.tsv`."
   ]
  },
  {
   "cell_type": "code",
   "execution_count": null,
   "metadata": {},
   "outputs": [],
   "source": [
    "structureDataset(pmidList, 'data/RELISH/pubmed', 'data/RELISH', 'data/RELISH/RELISH_Formatted.tsv')"
   ]
  }
 ],
 "metadata": {
  "kernelspec": {
   "display_name": "Python 3.9.5 ('base')",
   "language": "python",
   "name": "python3"
  },
  "language_info": {
   "name": "python",
   "version": "3.9.5"
  },
  "orig_nbformat": 4,
  "vscode": {
   "interpreter": {
    "hash": "3457992a284a47d39fd97a06d2c5f9bb09685ad50a60e51151f10dbfde67a8a4"
   }
  }
 },
 "nbformat": 4,
 "nbformat_minor": 2
}
