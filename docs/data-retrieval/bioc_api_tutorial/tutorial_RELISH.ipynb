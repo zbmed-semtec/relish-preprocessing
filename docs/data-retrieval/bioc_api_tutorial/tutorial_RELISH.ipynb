{
 "cells": [
  {
   "cell_type": "code",
   "execution_count": 1,
   "metadata": {},
   "outputs": [],
   "source": [
    "import os\n",
    "import pandas as pd\n",
    "from datetime import date\n",
    "path = os.path.dirname(os.path.realpath(\"__file__\"))"
   ]
  },
  {
   "cell_type": "code",
   "execution_count": 2,
   "metadata": {},
   "outputs": [],
   "source": [
    "# Import parseTREC function from InputDataPreprocess.py\n",
    "os.chdir('../../../code')\n",
    "from InputDataPreprocess import parseRelish\n",
    "# --------------------------------------------------------------\n",
    "# Change to the directory where this tutorial is stored for relative paths to work\n",
    "os.chdir(path)"
   ]
  },
  {
   "cell_type": "markdown",
   "metadata": {},
   "source": [
    "The RELISH file is of type json and contains a lot of information. We wrote a function to retrieve the most important information into a TSV-file:"
   ]
  },
  {
   "cell_type": "code",
   "execution_count": 3,
   "metadata": {},
   "outputs": [
    {
     "data": {
      "text/html": [
       "<div>\n",
       "<style scoped>\n",
       "    .dataframe tbody tr th:only-of-type {\n",
       "        vertical-align: middle;\n",
       "    }\n",
       "\n",
       "    .dataframe tbody tr th {\n",
       "        vertical-align: top;\n",
       "    }\n",
       "\n",
       "    .dataframe thead th {\n",
       "        text-align: right;\n",
       "    }\n",
       "</style>\n",
       "<table border=\"1\" class=\"dataframe\">\n",
       "  <thead>\n",
       "    <tr style=\"text-align: right;\">\n",
       "      <th></th>\n",
       "      <th>reference_pmid</th>\n",
       "      <th>assessment_pmid</th>\n",
       "      <th>relevance</th>\n",
       "    </tr>\n",
       "  </thead>\n",
       "  <tbody>\n",
       "    <tr>\n",
       "      <th>0</th>\n",
       "      <td>22569528</td>\n",
       "      <td>17928366</td>\n",
       "      <td>2</td>\n",
       "    </tr>\n",
       "    <tr>\n",
       "      <th>1</th>\n",
       "      <td>22569528</td>\n",
       "      <td>18562239</td>\n",
       "      <td>2</td>\n",
       "    </tr>\n",
       "    <tr>\n",
       "      <th>2</th>\n",
       "      <td>22569528</td>\n",
       "      <td>19052640</td>\n",
       "      <td>2</td>\n",
       "    </tr>\n",
       "    <tr>\n",
       "      <th>3</th>\n",
       "      <td>22569528</td>\n",
       "      <td>19060905</td>\n",
       "      <td>2</td>\n",
       "    </tr>\n",
       "    <tr>\n",
       "      <th>4</th>\n",
       "      <td>22569528</td>\n",
       "      <td>19242111</td>\n",
       "      <td>2</td>\n",
       "    </tr>\n",
       "  </tbody>\n",
       "</table>\n",
       "</div>"
      ],
      "text/plain": [
       "   reference_pmid  assessment_pmid  relevance\n",
       "0        22569528         17928366          2\n",
       "1        22569528         18562239          2\n",
       "2        22569528         19052640          2\n",
       "3        22569528         19060905          2\n",
       "4        22569528         19242111          2"
      ]
     },
     "metadata": {},
     "output_type": "display_data"
    }
   ],
   "source": [
    "file = './data/RELISH/RELISH_v1.json'\n",
    "pmidSet = parseRelish(file) # parseRelish transforms the json file to a TSV file that can be found in the file folder\n",
    "df = pd.read_csv('./data/RELISH/RELISH.tsv', sep='\\t', header=None, names=['reference_pmid', 'assessment_pmid', 'relevance'])\n",
    "display(df.head())"
   ]
  },
  {
   "cell_type": "markdown",
   "metadata": {},
   "source": [
    "We see that the RELISH file includes the reference PMIDs, the assessment PMIDs and assessment values. We want to retrieve all the PMIDs from the BioC API. Because we already made some cleaning of the parsed data, we recommend using the pmidSet retrieved from calling the parseRelish function for further analysis:"
   ]
  },
  {
   "cell_type": "code",
   "execution_count": 4,
   "metadata": {},
   "outputs": [
    {
     "name": "stdout",
     "output_type": "stream",
     "text": [
      "['16638632', '16735107', '16838294', '16891103', '17006532', '17055509', '17070090', '17089077', '17098331', '17115153']\n"
     ]
    }
   ],
   "source": [
    "pmidList = sorted(list(pmidSet))[:1000] # use list to get first 1000 pmids\n",
    "print(pmidList[:10]) # print first 10 pmids"
   ]
  },
  {
   "cell_type": "markdown",
   "metadata": {},
   "source": [
    "We wrote a function to automatically retrieve abstracts and titles of PMIDs from the [BioC-API](https://www.ncbi.nlm.nih.gov/research/bionlp/APIs/BioC-PubMed/). Further we analyze which of the defined PMIDs do not have an API entry or do not have an abstract or title. The function gathers all the wanted abstracts and titles in a tab-separated file (TSV).\n",
    "\n",
    "In the following we retrieve abstracts from 1000 articles defined in pmidList:"
   ]
  },
  {
   "cell_type": "code",
   "execution_count": 5,
   "metadata": {},
   "outputs": [
    {
     "name": "stderr",
     "output_type": "stream",
     "text": [
      "2022-09-05 19:09:22,800 - INFO - Started script.\n",
      "2022-09-05 19:09:22,801 - INFO - Number of PMIDs to process: 1000\n",
      "2022-09-05 19:09:28,216 - INFO - Processing 3 chunk files.\n"
     ]
    },
    {
     "data": {
      "application/vnd.jupyter.widget-view+json": {
       "model_id": "dd5a66df6d6d4ab39063b03d798c405e",
       "version_major": 2,
       "version_minor": 0
      },
      "text/plain": [
       "  0%|          | 0/3 [00:00<?, ?it/s]"
      ]
     },
     "metadata": {},
     "output_type": "display_data"
    },
    {
     "name": "stderr",
     "output_type": "stream",
     "text": [
      "2022-09-05 19:09:29,591 - INFO - Titles, abstracts and pmids saved to tsv file (Path: ./data/RELISH/documents_20220905.tsv).\n",
      "2022-09-05 19:09:29,612 - INFO - All titles and abstracts successfully retrieved.\n",
      "2022-09-05 19:09:29,815 - INFO - Finished script.\n"
     ]
    }
   ],
   "source": [
    "# Import main function\n",
    "os.chdir('../../../code/BioC-approach/')\n",
    "from BioCAPIReader import main\n",
    "os.chdir(path)\n",
    "\n",
    "# define the path where the data will be stored\n",
    "parentPath = './data/RELISH'\n",
    "\n",
    "# execute function main to retrieve data\n",
    "main(pmidList, parentPath, log=True, delete_tmp=True, chunk_size=400, processes=30) # Change of log argument needs restart of kernel; if you want to keep the temporary files from the BioC-API, set delete_tmp=False"
   ]
  },
  {
   "cell_type": "markdown",
   "metadata": {},
   "source": [
    "Let's have a look at the outputfile:"
   ]
  },
  {
   "cell_type": "code",
   "execution_count": 6,
   "metadata": {},
   "outputs": [
    {
     "name": "stdout",
     "output_type": "stream",
     "text": [
      "Number of documents:  1000\n"
     ]
    },
    {
     "data": {
      "text/html": [
       "<div>\n",
       "<style scoped>\n",
       "    .dataframe tbody tr th:only-of-type {\n",
       "        vertical-align: middle;\n",
       "    }\n",
       "\n",
       "    .dataframe tbody tr th {\n",
       "        vertical-align: top;\n",
       "    }\n",
       "\n",
       "    .dataframe thead th {\n",
       "        text-align: right;\n",
       "    }\n",
       "</style>\n",
       "<table border=\"1\" class=\"dataframe\">\n",
       "  <thead>\n",
       "    <tr style=\"text-align: right;\">\n",
       "      <th></th>\n",
       "      <th>PMID</th>\n",
       "      <th>title</th>\n",
       "      <th>abstract</th>\n",
       "    </tr>\n",
       "  </thead>\n",
       "  <tbody>\n",
       "    <tr>\n",
       "      <th>0</th>\n",
       "      <td>16638632</td>\n",
       "      <td>Analysis of degradation of bacterial cell divi...</td>\n",
       "      <td>The identity of protease(s), which would degra...</td>\n",
       "    </tr>\n",
       "    <tr>\n",
       "      <th>1</th>\n",
       "      <td>16735107</td>\n",
       "      <td>Screening of free-living rhizospheric bacteria...</td>\n",
       "      <td>Plant growth promoting rhizobacteria (PGPR) ar...</td>\n",
       "    </tr>\n",
       "    <tr>\n",
       "      <th>2</th>\n",
       "      <td>16838294</td>\n",
       "      <td>A conserved role for the nodal signaling pathw...</td>\n",
       "      <td>Nodal factors play crucial roles during embryo...</td>\n",
       "    </tr>\n",
       "    <tr>\n",
       "      <th>3</th>\n",
       "      <td>16891103</td>\n",
       "      <td>A type-1 metacaspase from Acanthamoeba castell...</td>\n",
       "      <td>The complete sequence of a type-1 metacaspase ...</td>\n",
       "    </tr>\n",
       "    <tr>\n",
       "      <th>4</th>\n",
       "      <td>17006532</td>\n",
       "      <td>Quantitative and evolutionary biology of alter...</td>\n",
       "      <td>Alternative splicing (AS) of pre-messenger RNA...</td>\n",
       "    </tr>\n",
       "  </tbody>\n",
       "</table>\n",
       "</div>"
      ],
      "text/plain": [
       "       PMID                                              title  \\\n",
       "0  16638632  Analysis of degradation of bacterial cell divi...   \n",
       "1  16735107  Screening of free-living rhizospheric bacteria...   \n",
       "2  16838294  A conserved role for the nodal signaling pathw...   \n",
       "3  16891103  A type-1 metacaspase from Acanthamoeba castell...   \n",
       "4  17006532  Quantitative and evolutionary biology of alter...   \n",
       "\n",
       "                                            abstract  \n",
       "0  The identity of protease(s), which would degra...  \n",
       "1  Plant growth promoting rhizobacteria (PGPR) ar...  \n",
       "2  Nodal factors play crucial roles during embryo...  \n",
       "3  The complete sequence of a type-1 metacaspase ...  \n",
       "4  Alternative splicing (AS) of pre-messenger RNA...  "
      ]
     },
     "metadata": {},
     "output_type": "display_data"
    }
   ],
   "source": [
    "today = date.today().strftime(\"%Y%m%d\") # define today's date, because the output is always named with today's date\n",
    "documents = pd.read_csv(f'{parentPath}/documents_{today}.tsv', sep='\\t')\n",
    "print('Number of documents: ', len(documents))\n",
    "display(documents.head())"
   ]
  },
  {
   "cell_type": "markdown",
   "metadata": {},
   "source": [
    "And a look at the missing PMIDs:"
   ]
  },
  {
   "cell_type": "code",
   "execution_count": 7,
   "metadata": {},
   "outputs": [
    {
     "name": "stdout",
     "output_type": "stream",
     "text": [
      "No abstracts or titles were missing.\n"
     ]
    }
   ],
   "source": [
    "try:\n",
    "    missing = pd.read_csv(f'{parentPath}/missing_{today}.tsv', sep='\\t')\n",
    "    print('Number of missing documents: ', len(missing))\n",
    "    display(missing.head())\n",
    "except:\n",
    "    print('No abstracts or titles were missing.')"
   ]
  }
 ],
 "metadata": {
  "interpreter": {
   "hash": "3457992a284a47d39fd97a06d2c5f9bb09685ad50a60e51151f10dbfde67a8a4"
  },
  "kernelspec": {
   "display_name": "Python 3.9.5 ('base')",
   "language": "python",
   "name": "python3"
  },
  "language_info": {
   "codemirror_mode": {
    "name": "ipython",
    "version": 3
   },
   "file_extension": ".py",
   "mimetype": "text/x-python",
   "name": "python",
   "nbconvert_exporter": "python",
   "pygments_lexer": "ipython3",
   "version": "3.9.5"
  },
  "orig_nbformat": 4
 },
 "nbformat": 4,
 "nbformat_minor": 2
}
